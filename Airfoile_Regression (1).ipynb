{
 "cells": [
  {
   "cell_type": "code",
   "execution_count": 1,
   "id": "42960aee",
   "metadata": {},
   "outputs": [],
   "source": [
    "import pandas as pd\n",
    "import numpy as np"
   ]
  },
  {
   "cell_type": "code",
   "execution_count": 2,
   "id": "18a7c163",
   "metadata": {},
   "outputs": [],
   "source": [
    "dataset = pd.read_csv(\"F:\\\\iNeuron\\\\airfoil_self_noise.dat\",sep='\\t',header=None)"
   ]
  },
  {
   "cell_type": "code",
   "execution_count": 3,
   "id": "d50e5396",
   "metadata": {},
   "outputs": [
    {
     "data": {
      "text/html": [
       "<div>\n",
       "<style scoped>\n",
       "    .dataframe tbody tr th:only-of-type {\n",
       "        vertical-align: middle;\n",
       "    }\n",
       "\n",
       "    .dataframe tbody tr th {\n",
       "        vertical-align: top;\n",
       "    }\n",
       "\n",
       "    .dataframe thead th {\n",
       "        text-align: right;\n",
       "    }\n",
       "</style>\n",
       "<table border=\"1\" class=\"dataframe\">\n",
       "  <thead>\n",
       "    <tr style=\"text-align: right;\">\n",
       "      <th></th>\n",
       "      <th>0</th>\n",
       "      <th>1</th>\n",
       "      <th>2</th>\n",
       "      <th>3</th>\n",
       "      <th>4</th>\n",
       "      <th>5</th>\n",
       "    </tr>\n",
       "  </thead>\n",
       "  <tbody>\n",
       "    <tr>\n",
       "      <th>0</th>\n",
       "      <td>800</td>\n",
       "      <td>0.0</td>\n",
       "      <td>0.3048</td>\n",
       "      <td>71.3</td>\n",
       "      <td>0.002663</td>\n",
       "      <td>126.201</td>\n",
       "    </tr>\n",
       "    <tr>\n",
       "      <th>1</th>\n",
       "      <td>1000</td>\n",
       "      <td>0.0</td>\n",
       "      <td>0.3048</td>\n",
       "      <td>71.3</td>\n",
       "      <td>0.002663</td>\n",
       "      <td>125.201</td>\n",
       "    </tr>\n",
       "  </tbody>\n",
       "</table>\n",
       "</div>"
      ],
      "text/plain": [
       "      0    1       2     3         4        5\n",
       "0   800  0.0  0.3048  71.3  0.002663  126.201\n",
       "1  1000  0.0  0.3048  71.3  0.002663  125.201"
      ]
     },
     "execution_count": 3,
     "metadata": {},
     "output_type": "execute_result"
    }
   ],
   "source": [
    "dataset.head(2)"
   ]
  },
  {
   "cell_type": "markdown",
   "id": "0e9dac6f",
   "metadata": {},
   "source": [
    "This problem has the following inputs:\n",
    "1. Frequency, in Hertzs.\n",
    "2. Angle of attack, in degrees.\n",
    "3. Chord length, in meters.\n",
    "4. Free-stream velocity, in meters per second.\n",
    "5. Suction side displacement thickness, in meters.\n",
    "\n",
    "The only output is:\n",
    "6. Scaled sound pressure level, in decibels."
   ]
  },
  {
   "cell_type": "code",
   "execution_count": 4,
   "id": "9174347f",
   "metadata": {},
   "outputs": [],
   "source": [
    "dataset.columns=[\"Frequency\",\"Angle of attack\",\"Chord length\",\"Free-stream velocity\",\"Suction side\",\"pressure level\"]"
   ]
  },
  {
   "cell_type": "code",
   "execution_count": 5,
   "id": "dfa0f05b",
   "metadata": {},
   "outputs": [
    {
     "data": {
      "text/html": [
       "<div>\n",
       "<style scoped>\n",
       "    .dataframe tbody tr th:only-of-type {\n",
       "        vertical-align: middle;\n",
       "    }\n",
       "\n",
       "    .dataframe tbody tr th {\n",
       "        vertical-align: top;\n",
       "    }\n",
       "\n",
       "    .dataframe thead th {\n",
       "        text-align: right;\n",
       "    }\n",
       "</style>\n",
       "<table border=\"1\" class=\"dataframe\">\n",
       "  <thead>\n",
       "    <tr style=\"text-align: right;\">\n",
       "      <th></th>\n",
       "      <th>Frequency</th>\n",
       "      <th>Angle of attack</th>\n",
       "      <th>Chord length</th>\n",
       "      <th>Free-stream velocity</th>\n",
       "      <th>Suction side</th>\n",
       "      <th>pressure level</th>\n",
       "    </tr>\n",
       "  </thead>\n",
       "  <tbody>\n",
       "    <tr>\n",
       "      <th>0</th>\n",
       "      <td>800</td>\n",
       "      <td>0.0</td>\n",
       "      <td>0.3048</td>\n",
       "      <td>71.3</td>\n",
       "      <td>0.002663</td>\n",
       "      <td>126.201</td>\n",
       "    </tr>\n",
       "    <tr>\n",
       "      <th>1</th>\n",
       "      <td>1000</td>\n",
       "      <td>0.0</td>\n",
       "      <td>0.3048</td>\n",
       "      <td>71.3</td>\n",
       "      <td>0.002663</td>\n",
       "      <td>125.201</td>\n",
       "    </tr>\n",
       "  </tbody>\n",
       "</table>\n",
       "</div>"
      ],
      "text/plain": [
       "   Frequency  Angle of attack  Chord length  Free-stream velocity  \\\n",
       "0        800              0.0        0.3048                  71.3   \n",
       "1       1000              0.0        0.3048                  71.3   \n",
       "\n",
       "   Suction side  pressure level  \n",
       "0      0.002663         126.201  \n",
       "1      0.002663         125.201  "
      ]
     },
     "execution_count": 5,
     "metadata": {},
     "output_type": "execute_result"
    }
   ],
   "source": [
    "dataset.head(2)"
   ]
  },
  {
   "cell_type": "code",
   "execution_count": 6,
   "id": "b51e0f67",
   "metadata": {},
   "outputs": [
    {
     "data": {
      "text/plain": [
       "Frequency               0\n",
       "Angle of attack         0\n",
       "Chord length            0\n",
       "Free-stream velocity    0\n",
       "Suction side            0\n",
       "pressure level          0\n",
       "dtype: int64"
      ]
     },
     "execution_count": 6,
     "metadata": {},
     "output_type": "execute_result"
    }
   ],
   "source": [
    "dataset.isnull().sum()"
   ]
  },
  {
   "cell_type": "code",
   "execution_count": 7,
   "id": "ebc2c663",
   "metadata": {},
   "outputs": [],
   "source": [
    "X = dataset.iloc[:,:-1]\n",
    "y = dataset.iloc[:,-1]"
   ]
  },
  {
   "cell_type": "code",
   "execution_count": 8,
   "id": "52bf2eaf",
   "metadata": {},
   "outputs": [],
   "source": [
    "# first do train test split\n",
    "from sklearn.model_selection import train_test_split"
   ]
  },
  {
   "cell_type": "code",
   "execution_count": 9,
   "id": "cd93639d",
   "metadata": {},
   "outputs": [],
   "source": [
    " X_train, X_test, y_train, y_test = train_test_split(X, y, test_size=0.25)"
   ]
  },
  {
   "cell_type": "code",
   "execution_count": 10,
   "id": "c1b2794e",
   "metadata": {},
   "outputs": [
    {
     "data": {
      "text/plain": [
       "<seaborn.axisgrid.PairGrid at 0x199ec9afda0>"
      ]
     },
     "execution_count": 10,
     "metadata": {},
     "output_type": "execute_result"
    },
    {
     "data": {
      "image/png": "[encoded data removed]",
      "text/plain": [
       "<Figure size 900x900 with 30 Axes>"
      ]
     },
     "metadata": {
      "needs_background": "light"
     },
     "output_type": "display_data"
    }
   ],
   "source": [
    "import seaborn as sns\n",
    "sns.pairplot(X_train)"
   ]
  },
  {
   "cell_type": "code",
   "execution_count": 10,
   "id": "1b6c619c",
   "metadata": {},
   "outputs": [
    {
     "data": {
      "text/html": [
       "<div>\n",
       "<style scoped>\n",
       "    .dataframe tbody tr th:only-of-type {\n",
       "        vertical-align: middle;\n",
       "    }\n",
       "\n",
       "    .dataframe tbody tr th {\n",
       "        vertical-align: top;\n",
       "    }\n",
       "\n",
       "    .dataframe thead th {\n",
       "        text-align: right;\n",
       "    }\n",
       "</style>\n",
       "<table border=\"1\" class=\"dataframe\">\n",
       "  <thead>\n",
       "    <tr style=\"text-align: right;\">\n",
       "      <th></th>\n",
       "      <th>Frequency</th>\n",
       "      <th>Angle of attack</th>\n",
       "      <th>Chord length</th>\n",
       "      <th>Free-stream velocity</th>\n",
       "      <th>Suction side</th>\n",
       "    </tr>\n",
       "  </thead>\n",
       "  <tbody>\n",
       "    <tr>\n",
       "      <th>Frequency</th>\n",
       "      <td>1.000000</td>\n",
       "      <td>-0.288937</td>\n",
       "      <td>0.021492</td>\n",
       "      <td>0.125608</td>\n",
       "      <td>-0.233744</td>\n",
       "    </tr>\n",
       "    <tr>\n",
       "      <th>Angle of attack</th>\n",
       "      <td>-0.288937</td>\n",
       "      <td>1.000000</td>\n",
       "      <td>-0.512718</td>\n",
       "      <td>0.061069</td>\n",
       "      <td>0.753011</td>\n",
       "    </tr>\n",
       "    <tr>\n",
       "      <th>Chord length</th>\n",
       "      <td>0.021492</td>\n",
       "      <td>-0.512718</td>\n",
       "      <td>1.000000</td>\n",
       "      <td>0.029120</td>\n",
       "      <td>-0.223188</td>\n",
       "    </tr>\n",
       "    <tr>\n",
       "      <th>Free-stream velocity</th>\n",
       "      <td>0.125608</td>\n",
       "      <td>0.061069</td>\n",
       "      <td>0.029120</td>\n",
       "      <td>1.000000</td>\n",
       "      <td>0.005569</td>\n",
       "    </tr>\n",
       "    <tr>\n",
       "      <th>Suction side</th>\n",
       "      <td>-0.233744</td>\n",
       "      <td>0.753011</td>\n",
       "      <td>-0.223188</td>\n",
       "      <td>0.005569</td>\n",
       "      <td>1.000000</td>\n",
       "    </tr>\n",
       "  </tbody>\n",
       "</table>\n",
       "</div>"
      ],
      "text/plain": [
       "                      Frequency  Angle of attack  Chord length  \\\n",
       "Frequency              1.000000        -0.288937      0.021492   \n",
       "Angle of attack       -0.288937         1.000000     -0.512718   \n",
       "Chord length           0.021492        -0.512718      1.000000   \n",
       "Free-stream velocity   0.125608         0.061069      0.029120   \n",
       "Suction side          -0.233744         0.753011     -0.223188   \n",
       "\n",
       "                      Free-stream velocity  Suction side  \n",
       "Frequency                         0.125608     -0.233744  \n",
       "Angle of attack                   0.061069      0.753011  \n",
       "Chord length                      0.029120     -0.223188  \n",
       "Free-stream velocity              1.000000      0.005569  \n",
       "Suction side                      0.005569      1.000000  "
      ]
     },
     "execution_count": 10,
     "metadata": {},
     "output_type": "execute_result"
    }
   ],
   "source": [
    "import matplotlib.pyplot as plt\n",
    "\n",
    "X_train.corr()"
   ]
  },
  {
   "cell_type": "code",
   "execution_count": 14,
   "id": "cf7c899d",
   "metadata": {},
   "outputs": [],
   "source": [
    "# Pandas Profiling=========== scearch"
   ]
  },
  {
   "cell_type": "code",
   "execution_count": 15,
   "id": "3e496395",
   "metadata": {},
   "outputs": [
    {
     "name": "stderr",
     "output_type": "stream",
     "text": [
      "C:\\Users\\Swarupa\\Anaconda3\\lib\\site-packages\\seaborn\\_decorators.py:43: FutureWarning: Pass the following variable as a keyword arg: x. From version 0.12, the only valid positional argument will be `data`, and passing other arguments without an explicit keyword will result in an error or misinterpretation.\n",
      "  FutureWarning\n"
     ]
    },
    {
     "data": {
      "text/plain": [
       "<matplotlib.axes._subplots.AxesSubplot at 0x1d59d60a400>"
      ]
     },
     "execution_count": 15,
     "metadata": {},
     "output_type": "execute_result"
    },
    {
     "data": {
      "image/png": "[encoded data removed]",
      "text/plain": [
       "<Figure size 432x288 with 1 Axes>"
      ]
     },
     "metadata": {
      "needs_background": "light"
     },
     "output_type": "display_data"
    }
   ],
   "source": [
    "sns.boxplot(X_train[\"Frequency\"])"
   ]
  },
  {
   "cell_type": "code",
   "execution_count": 16,
   "id": "a14c9cac",
   "metadata": {},
   "outputs": [
    {
     "name": "stderr",
     "output_type": "stream",
     "text": [
      "C:\\Users\\Swarupa\\Anaconda3\\lib\\site-packages\\seaborn\\_decorators.py:43: FutureWarning: Pass the following variables as keyword args: x, y. From version 0.12, the only valid positional argument will be `data`, and passing other arguments without an explicit keyword will result in an error or misinterpretation.\n",
      "  FutureWarning\n"
     ]
    },
    {
     "data": {
      "text/plain": [
       "<matplotlib.axes._subplots.AxesSubplot at 0x1d59d664cc0>"
      ]
     },
     "execution_count": 16,
     "metadata": {},
     "output_type": "execute_result"
    },
    {
     "data": {
      "image/png": "[encoded data removed]",
      "text/plain": [
       "<Figure size 432x288 with 1 Axes>"
      ]
     },
     "metadata": {
      "needs_background": "light"
     },
     "output_type": "display_data"
    }
   ],
   "source": [
    "sns.scatterplot(X_train['Frequency'],y)"
   ]
  },
  {
   "cell_type": "code",
   "execution_count": 17,
   "id": "22e3c6b9",
   "metadata": {},
   "outputs": [
    {
     "data": {
      "text/plain": [
       "1456"
      ]
     },
     "execution_count": 17,
     "metadata": {},
     "output_type": "execute_result"
    }
   ],
   "source": [
    "len(dataset[\"pressure level\"].unique())"
   ]
  },
  {
   "cell_type": "code",
   "execution_count": 45,
   "id": "d234b269",
   "metadata": {},
   "outputs": [
    {
     "name": "stderr",
     "output_type": "stream",
     "text": [
      "C:\\Users\\Swarupa\\Anaconda3\\lib\\site-packages\\seaborn\\_decorators.py:43: FutureWarning: Pass the following variable as a keyword arg: x. From version 0.12, the only valid positional argument will be `data`, and passing other arguments without an explicit keyword will result in an error or misinterpretation.\n",
      "  FutureWarning\n"
     ]
    },
    {
     "data": {
      "text/plain": [
       "<matplotlib.axes._subplots.AxesSubplot at 0x1d8fc9283c8>"
      ]
     },
     "execution_count": 45,
     "metadata": {},
     "output_type": "execute_result"
    },
    {
     "data": {
      "image/png": "[encoded data removed]",
      "text/plain": [
       "<Figure size 432x288 with 1 Axes>"
      ]
     },
     "metadata": {
      "needs_background": "light"
     },
     "output_type": "display_data"
    }
   ],
   "source": [
    "sns.boxplot(dataset['pressure level'])"
   ]
  },
  {
   "cell_type": "code",
   "execution_count": 18,
   "id": "8030ba48",
   "metadata": {},
   "outputs": [],
   "source": [
    "from sklearn import preprocessing\n",
    "from sklearn.preprocessing import StandardScaler\n",
    "standard = StandardScaler()"
   ]
  },
  {
   "cell_type": "code",
   "execution_count": 19,
   "id": "67e3a145",
   "metadata": {},
   "outputs": [],
   "source": [
    "model = standard.fit_transform(X_train,y_train)"
   ]
  },
  {
   "cell_type": "code",
   "execution_count": 20,
   "id": "cd974314",
   "metadata": {},
   "outputs": [
    {
     "data": {
      "text/plain": [
       "array([[-0.4207562 ,  1.78778088, -1.17597854, -1.2219654 ,  0.49937514],\n",
       "       [-0.11665578,  0.74307717, -0.90671243, -0.71227359,  0.30063007],\n",
       "       [ 1.16732378, -0.2342263 ,  0.17035203,  0.31356182, -0.51363122],\n",
       "       ...,\n",
       "       [ 0.10297231, -0.2342263 ,  0.17035203, -1.2219654 , -0.44357611],\n",
       "       [-0.82622343,  0.92842783, -0.3681802 ,  1.33294543,  1.72408951],\n",
       "       [ 1.16732378, -1.14412953,  0.17035203,  0.31356182, -0.71168476]])"
      ]
     },
     "execution_count": 20,
     "metadata": {},
     "output_type": "execute_result"
    }
   ],
   "source": [
    "model"
   ]
  },
  {
   "cell_type": "code",
   "execution_count": 21,
   "id": "a12bd13a",
   "metadata": {},
   "outputs": [],
   "source": [
    "from sklearn.linear_model import LinearRegression\n"
   ]
  },
  {
   "cell_type": "code",
   "execution_count": 39,
   "id": "00ca5f02",
   "metadata": {},
   "outputs": [
    {
     "data": {
      "text/plain": [
       "0.5380712035834877"
      ]
     },
     "execution_count": 39,
     "metadata": {},
     "output_type": "execute_result"
    }
   ],
   "source": [
    "lin_regressor=LinearRegression()\n",
    "lin_regressor.fit(X_train,y_train)\n",
    "r2_score = lin_regressor.score(X_test,y_test)\n",
    "r2_score"
   ]
  },
  {
   "cell_type": "markdown",
   "id": "65011fac",
   "metadata": {},
   "source": [
    "DECISION TREE REGRESSOR"
   ]
  },
  {
   "cell_type": "code",
   "execution_count": 19,
   "id": "d94ab6a0",
   "metadata": {},
   "outputs": [],
   "source": [
    "from sklearn.tree import DecisionTreeRegressor\n",
    "from sklearn.model_selection import GridSearchCV\n",
    "from sklearn import tree\n",
    "treeregressor = DecisionTreeRegressor(criterion=\"entropy\")"
   ]
  },
  {
   "cell_type": "code",
   "execution_count": 39,
   "id": "b650a083",
   "metadata": {},
   "outputs": [
    {
     "data": {
      "text/plain": [
       "GridSearchCV(estimator=DecisionTreeRegressor(),\n",
       "             param_grid={'max_depth': [2, 4, 8, 10, 12, 14, 16],\n",
       "                         'min_samples_leaf': [1, 2],\n",
       "                         'min_samples_split': [2, 3, 4]})"
      ]
     },
     "execution_count": 39,
     "metadata": {},
     "output_type": "execute_result"
    }
   ],
   "source": [
    "parameters = {'max_depth':[2,4,8,10,12,14,16],\n",
    "             'min_samples_split':[2,3,4],\n",
    "             'min_samples_leaf':[1,2]}\n",
    "reg = tree.DecisionTreeRegressor()\n",
    "# classifier.fit(X_train,y_train)\n",
    "TreeRegressor = GridSearchCV(reg,parameters)\n",
    "TreeRegressor.fit(X_train,y_train)"
   ]
  },
  {
   "cell_type": "code",
   "execution_count": 40,
   "id": "b459d0fb",
   "metadata": {},
   "outputs": [
    {
     "data": {
      "text/plain": [
       "DecisionTreeRegressor(max_depth=10)"
      ]
     },
     "execution_count": 40,
     "metadata": {},
     "output_type": "execute_result"
    }
   ],
   "source": [
    "tree = DecisionTreeRegressor(splitter=\"best\",max_depth=10)\n",
    "tree.fit(X_train,y_train)"
   ]
  },
  {
   "cell_type": "code",
   "execution_count": 46,
   "id": "feeeec37",
   "metadata": {},
   "outputs": [],
   "source": [
    "pred = TreeRegressor.predict(X_test)"
   ]
  },
  {
   "cell_type": "code",
   "execution_count": 37,
   "id": "42737f0c",
   "metadata": {},
   "outputs": [
    {
     "data": {
      "text/plain": [
       "0.8168036893396046"
      ]
     },
     "execution_count": 37,
     "metadata": {},
     "output_type": "execute_result"
    }
   ],
   "source": [
    "r2_score = tree.score(X_test,y_test)\n",
    "r2_score"
   ]
  },
  {
   "cell_type": "code",
   "execution_count": 38,
   "id": "5ae8b132",
   "metadata": {},
   "outputs": [
    {
     "name": "stdout",
     "output_type": "stream",
     "text": [
      "0.8204567534747091\n"
     ]
    }
   ],
   "source": [
    "print(TreeRegressor.best_score_)"
   ]
  },
  {
   "cell_type": "code",
   "execution_count": 39,
   "id": "b236c94c",
   "metadata": {},
   "outputs": [
    {
     "name": "stdout",
     "output_type": "stream",
     "text": [
      "{'max_depth': 14, 'min_samples_leaf': 1, 'min_samples_split': 2}\n"
     ]
    }
   ],
   "source": [
    "print(TreeRegressor.best_params_)"
   ]
  },
  {
   "cell_type": "markdown",
   "id": "6d920e44",
   "metadata": {},
   "source": [
    "Ridge and Lasso Regressor"
   ]
  },
  {
   "cell_type": "code",
   "execution_count": 40,
   "id": "5a8b4e3e",
   "metadata": {},
   "outputs": [],
   "source": [
    "from sklearn.linear_model import Ridge\n",
    "ridge=Ridge()"
   ]
  },
  {
   "cell_type": "code",
   "execution_count": 41,
   "id": "fbabcc11",
   "metadata": {},
   "outputs": [
    {
     "data": {
      "text/plain": [
       "GridSearchCV(cv=5, estimator=Ridge(),\n",
       "             param_grid={'alpha': [1e-15, 1e-10, 1e-08, 0.001, 0.01, 1, 5, 10,\n",
       "                                   20, 30, 35, 40, 45, 50, 55, 60]},\n",
       "             scoring='neg_mean_squared_error')"
      ]
     },
     "execution_count": 41,
     "metadata": {},
     "output_type": "execute_result"
    }
   ],
   "source": [
    "parameters={'alpha':[1e-15,1e-10,1e-8,1e-3,1e-2,1,5,10,20,30,35,40,45,50,55,60]}\n",
    "ridge_regressor=GridSearchCV(ridge,parameters,scoring='neg_mean_squared_error',cv=5)\n",
    "ridge_regressor.fit(X_train,y_train)"
   ]
  },
  {
   "cell_type": "code",
   "execution_count": 42,
   "id": "3403efe2",
   "metadata": {},
   "outputs": [
    {
     "name": "stdout",
     "output_type": "stream",
     "text": [
      "{'alpha': 1e-08}\n",
      "-24.45771793823024\n"
     ]
    }
   ],
   "source": [
    "print(ridge_regressor.best_params_)\n",
    "print(ridge_regressor.best_score_)"
   ]
  },
  {
   "cell_type": "code",
   "execution_count": 45,
   "id": "bd3ce13e",
   "metadata": {},
   "outputs": [],
   "source": [
    "prediction_ridge=ridge_regressor.predict(X_test)"
   ]
  },
  {
   "cell_type": "code",
   "execution_count": 47,
   "id": "454477b9",
   "metadata": {},
   "outputs": [
    {
     "data": {
      "text/plain": [
       "0.5418877468982494"
      ]
     },
     "execution_count": 47,
     "metadata": {},
     "output_type": "execute_result"
    }
   ],
   "source": [
    "from sklearn.metrics import r2_score\n",
    "r2_score(y_test,prediction_ridge)"
   ]
  },
  {
   "cell_type": "code",
   "execution_count": 14,
   "id": "0ed5d6c8",
   "metadata": {},
   "outputs": [
    {
     "name": "stderr",
     "output_type": "stream",
     "text": [
      "C:\\Users\\Swarupa\\Anaconda3\\lib\\site-packages\\sklearn\\linear_model\\_coordinate_descent.py:531: ConvergenceWarning: Objective did not converge. You might want to increase the number of iterations. Duality gap: 11020.844177840638, tolerance: 4.409074965077248\n",
      "  positive)\n",
      "C:\\Users\\Swarupa\\Anaconda3\\lib\\site-packages\\sklearn\\linear_model\\_coordinate_descent.py:531: ConvergenceWarning: Objective did not converge. You might want to increase the number of iterations. Duality gap: 10133.830831844456, tolerance: 4.206916029948058\n",
      "  positive)\n",
      "C:\\Users\\Swarupa\\Anaconda3\\lib\\site-packages\\sklearn\\linear_model\\_coordinate_descent.py:531: ConvergenceWarning: Objective did not converge. You might want to increase the number of iterations. Duality gap: 11335.057066623074, tolerance: 4.475893004936253\n",
      "  positive)\n",
      "C:\\Users\\Swarupa\\Anaconda3\\lib\\site-packages\\sklearn\\linear_model\\_coordinate_descent.py:531: ConvergenceWarning: Objective did not converge. You might want to increase the number of iterations. Duality gap: 10837.033557223695, tolerance: 4.35942317143193\n",
      "  positive)\n"
     ]
    },
    {
     "name": "stdout",
     "output_type": "stream",
     "text": [
      "{'alpha': 1e-08}\n",
      "-24.384589137125197\n"
     ]
    }
   ],
   "source": [
    "from sklearn.linear_model import Lasso\n",
    "lasso=Lasso()\n",
    "parameters={'alpha':[1e-15,1e-10,1e-8,1e-3,1e-2,1,5,10,20,30]}\n",
    "lasso_regressor=GridSearchCV(lasso,parameters,scoring='neg_mean_squared_error',cv=5)\n",
    "lasso_regressor.fit(X_train,y_train)\n",
    "print(lasso_regressor.best_params_)\n",
    "print(lasso_regressor.best_score_)"
   ]
  },
  {
   "cell_type": "code",
   "execution_count": 15,
   "id": "b4db52f5",
   "metadata": {},
   "outputs": [],
   "source": [
    "prediction_lasso=lasso_regressor.predict(X_test)"
   ]
  },
  {
   "cell_type": "code",
   "execution_count": 16,
   "id": "5c07de40",
   "metadata": {},
   "outputs": [
    {
     "data": {
      "text/plain": [
       "0.565039689253332"
      ]
     },
     "execution_count": 16,
     "metadata": {},
     "output_type": "execute_result"
    }
   ],
   "source": [
    "from sklearn.metrics import r2_score\n",
    "r2_score(y_test,prediction_lasso)"
   ]
  },
  {
   "cell_type": "code",
   "execution_count": 57,
   "id": "ecafe173",
   "metadata": {},
   "outputs": [],
   "source": [
    "from sklearn.ensemble import RandomForestRegressor\n",
    "rand_reg = RandomForestRegressor(n_estimators=15)"
   ]
  },
  {
   "cell_type": "code",
   "execution_count": 58,
   "id": "31f3a3bd",
   "metadata": {},
   "outputs": [],
   "source": [
    "parameters = {'max_depth':[2,4,8,10,12,14,16],\n",
    "             'min_samples_split':[2,3,4],\n",
    "             'min_samples_leaf':[1,2]}"
   ]
  },
  {
   "cell_type": "code",
   "execution_count": 59,
   "id": "ea8c5323",
   "metadata": {},
   "outputs": [
    {
     "data": {
      "text/plain": [
       "GridSearchCV(estimator=RandomForestRegressor(n_estimators=15),\n",
       "             param_grid={'max_depth': [2, 4, 8, 10, 12, 14, 16],\n",
       "                         'min_samples_leaf': [1, 2],\n",
       "                         'min_samples_split': [2, 3, 4]})"
      ]
     },
     "execution_count": 59,
     "metadata": {},
     "output_type": "execute_result"
    }
   ],
   "source": [
    "Randomforestregressor = GridSearchCV(rand_reg,parameters)\n",
    "Randomforestregressor.fit (X_train, y_train)"
   ]
  },
  {
   "cell_type": "code",
   "execution_count": 60,
   "id": "9b1b3741",
   "metadata": {},
   "outputs": [],
   "source": [
    "pred = Randomforestregressor.predict(X_test)"
   ]
  },
  {
   "cell_type": "code",
   "execution_count": 61,
   "id": "9214aeea",
   "metadata": {},
   "outputs": [
    {
     "data": {
      "text/plain": [
       "0.9219840633484597"
      ]
     },
     "execution_count": 61,
     "metadata": {},
     "output_type": "execute_result"
    }
   ],
   "source": [
    "r2_score = Randomforestregressor.score(X_test,y_test)\n",
    "r2_score"
   ]
  },
  {
   "cell_type": "code",
   "execution_count": 62,
   "id": "1a3be820",
   "metadata": {},
   "outputs": [
    {
     "name": "stdout",
     "output_type": "stream",
     "text": [
      "{'max_depth': 14, 'min_samples_leaf': 1, 'min_samples_split': 3}\n"
     ]
    }
   ],
   "source": [
    "print(Randomforestregressor.best_params_)"
   ]
  },
  {
   "cell_type": "code",
   "execution_count": 63,
   "id": "7fe8564c",
   "metadata": {},
   "outputs": [
    {
     "name": "stdout",
     "output_type": "stream",
     "text": [
      "0.9026448093126769\n"
     ]
    }
   ],
   "source": [
    "print(Randomforestregressor.best_score_)"
   ]
  },
  {
   "cell_type": "code",
   "execution_count": 96,
   "id": "01612040",
   "metadata": {},
   "outputs": [],
   "source": [
    "import pickle\n",
    "pickle.dump(Randomforestregressor,open('model.pkl','wb'))"
   ]
  },
  {
   "cell_type": "code",
   "execution_count": 97,
   "id": "82e52cc1",
   "metadata": {
    "scrolled": true
   },
   "outputs": [
    {
     "data": {
      "text/plain": [
       "array([126.02539444, 112.22724444, 126.47534778, 129.51067778,\n",
       "       116.42523333, 122.38373   , 134.00113889, 132.47744501,\n",
       "       129.46175111, 127.27573889, 121.79471111, 126.32755556,\n",
       "       126.67788333, 119.30822963, 132.54000556, 124.46045333,\n",
       "       123.29197333, 118.57044571, 111.3362    , 128.12752889,\n",
       "       129.50404444, 128.23775   , 121.3466    , 129.31894762,\n",
       "       134.91747778, 122.34057222, 131.01706667, 124.17628667,\n",
       "       126.62738889, 129.19923333, 120.67189185, 126.41863889,\n",
       "       128.67758   , 125.47499444, 128.06976111, 123.05287778,\n",
       "       126.83068222, 116.514     , 123.89457222, 121.79526667,\n",
       "       118.85993333, 119.14409222, 124.11495667, 122.16269444,\n",
       "       126.88740222, 132.97842   , 130.62761667, 115.55278333,\n",
       "       130.12126667, 126.90556667, 121.69655778, 134.85717778,\n",
       "       131.72384444, 126.59619444, 136.65058333, 131.21146111,\n",
       "       130.90176333, 131.09956019, 127.49685556, 126.63282556,\n",
       "       128.17963111, 125.91413333, 114.35765444, 134.67425556,\n",
       "       132.65708889, 118.84479556, 132.0899102 , 113.88714444,\n",
       "       128.63443889, 127.46380556, 126.12566889, 123.06022222,\n",
       "       125.41233444, 113.68376111, 125.35302222, 125.00837778,\n",
       "       130.15552444, 132.89755655, 133.94861111, 126.35583333,\n",
       "       118.29717778, 132.79202222, 130.61240889, 129.15800556,\n",
       "       125.8562    , 131.93557094, 125.12835778, 121.86451556,\n",
       "       122.64147778, 118.94673333, 132.86151905, 124.82048889,\n",
       "       131.01166667, 135.80464444, 123.15604444, 131.95360317,\n",
       "       128.21787778, 120.28649333, 115.46754   , 124.35604222,\n",
       "       124.2111    , 128.81946667, 127.46744444, 128.71614333,\n",
       "       128.82792558, 113.58766   , 112.45774444, 130.45303889,\n",
       "       129.60377778, 128.99321111, 129.22362222, 129.50099048,\n",
       "       121.70709778, 113.0237    , 125.39786667, 127.45605556,\n",
       "       127.56126111, 128.85107889, 129.11978333, 125.83018   ,\n",
       "       116.87966667, 123.55378889, 130.71573542, 116.07963333,\n",
       "       125.68793333, 128.95033333, 132.87454444, 123.50753333,\n",
       "       124.84010222, 127.31372222, 111.033     , 109.07574444,\n",
       "       128.33975556, 128.67373889, 133.99710057, 116.32991556,\n",
       "       124.60766111, 119.38723825, 129.73881778, 128.65511667,\n",
       "       122.23808889, 111.69133111, 122.66458444, 126.46438889,\n",
       "       129.36144222, 134.42708333, 132.1999475 , 111.96969   ,\n",
       "       114.86941111, 112.55435   , 132.64520278, 122.96726667,\n",
       "       130.23117222, 131.43828889, 128.18582556, 113.65809444,\n",
       "       124.35535556, 125.58528778, 123.58605873, 128.48334921,\n",
       "       127.75944667, 125.94016111, 126.21542222, 116.71286667,\n",
       "       122.68707778, 130.77931111, 128.93771254, 119.68255111,\n",
       "       126.88770667, 126.2493    , 120.37661333, 132.01730222,\n",
       "       128.03436667, 119.15192889, 128.68817778, 119.49506667,\n",
       "       114.53238889, 126.90420556, 130.62961333, 124.22267778,\n",
       "       127.40926111, 127.63612222, 128.52340667, 119.31638889,\n",
       "       128.90553778, 132.40862778, 130.97686111, 131.97895302,\n",
       "       129.14966667, 120.67189185, 130.14009444, 113.43429444,\n",
       "       117.37252222, 116.09509667, 130.05183889, 132.07571111,\n",
       "       128.01624222, 133.28243111, 130.31004778, 131.00646762,\n",
       "       110.30174444, 121.15157407, 121.40802222, 132.49745111,\n",
       "       122.11750556, 114.73225444, 121.10223778, 125.36368556,\n",
       "       119.86699   , 106.36746667, 124.39046111, 127.86816667,\n",
       "       128.75380168, 132.95888889, 115.78142333, 118.60742   ,\n",
       "       120.41908222, 112.24866667, 126.98541111, 127.68977556,\n",
       "       123.38407556, 127.13703333, 112.59955   , 129.94739838,\n",
       "       128.26629841, 133.04101111, 117.28475556, 105.27211111,\n",
       "       126.89003333, 127.94594444, 122.83326667, 121.83284667,\n",
       "       124.71176349, 128.21080476, 127.01730556, 129.72093111,\n",
       "       129.5895    , 113.92092667, 121.77344   , 122.16906857,\n",
       "       132.85025111, 138.93923889, 126.04105556, 115.56272381,\n",
       "       110.00499444, 123.63177778, 125.13336889, 120.17190741,\n",
       "       111.65904444, 130.53868   , 114.05402381, 124.77264444,\n",
       "       124.67121111, 108.30567778, 112.09106444, 127.62080667,\n",
       "       125.63865238, 126.50661111, 124.25814444, 114.38241444,\n",
       "       123.32125667, 128.13855476, 133.31552427, 125.73733333,\n",
       "       123.48515889, 121.27818667, 128.43481667, 131.87880286,\n",
       "       133.71941349, 129.84991667, 122.61812333, 127.03185333,\n",
       "       131.66705302, 120.06453667, 117.67579778, 131.31593889,\n",
       "       128.00887222, 123.90757889, 131.01034725, 117.89858333,\n",
       "       123.84252   , 131.5139265 , 127.98503667, 112.99659667,\n",
       "       121.38122016, 129.97369444, 119.80948519, 122.94934444,\n",
       "       125.11971667, 123.92473095, 128.18440889, 126.75443778,\n",
       "       128.30005333, 118.97058889, 119.0886163 , 127.9465073 ,\n",
       "       130.25423556, 120.86397778, 126.34636222, 114.91588333,\n",
       "       118.4839    , 120.52097778, 127.23412   , 129.11844   ,\n",
       "       123.60885556, 123.04172333, 128.10869778, 113.02663222,\n",
       "       114.61066   , 128.76013667, 129.35568444, 112.68046667,\n",
       "       121.50362222, 132.58171111, 129.41074444, 124.06833889,\n",
       "       120.54182222, 122.05219556, 112.38031444, 120.7006046 ,\n",
       "       131.18595333, 125.91615556, 131.25796111, 132.30844543,\n",
       "       118.57046667, 121.60196667, 126.86607556, 122.47863111,\n",
       "       125.05908556, 134.15917778, 116.1902    , 128.87662778,\n",
       "       120.2798246 , 132.23297222, 118.43553333, 122.90893333,\n",
       "       117.10656222, 126.12722778, 130.92891667, 117.27603333,\n",
       "       122.04744444, 108.58692222, 126.04904444, 124.06870444,\n",
       "       131.39064   , 128.98963333, 127.76146778, 123.55715   ,\n",
       "       122.24083333, 129.22586667, 130.66928427, 123.64439444,\n",
       "       113.28683444, 120.50648889, 131.88873724, 125.80622778,\n",
       "       132.62890159, 118.49801778, 124.17343333, 131.36412512,\n",
       "       127.96383333, 132.29343333, 128.20871746, 128.78972222,\n",
       "       132.81157556, 124.23023889, 126.13564667, 129.83548828,\n",
       "       124.03491778, 118.78843333, 129.32062889, 134.69617111,\n",
       "       125.27056444, 130.42955556, 115.36116667, 123.74935667])"
      ]
     },
     "execution_count": 97,
     "metadata": {},
     "output_type": "execute_result"
    }
   ],
   "source": [
    "pickle_model = pickle.load(open('model.pkl','rb'))\n",
    "#batch input\n",
    "pickle_model.predict(X_test)"
   ]
  },
  {
   "cell_type": "code",
   "execution_count": 71,
   "id": "7c9d6547",
   "metadata": {},
   "outputs": [
    {
     "data": {
      "text/plain": [
       "Frequency               5000.000000\n",
       "Angle of attack            4.800000\n",
       "Chord length               0.025400\n",
       "Free-stream velocity      39.600000\n",
       "Suction side               0.000907\n",
       "Name: 1040, dtype: float64"
      ]
     },
     "execution_count": 71,
     "metadata": {},
     "output_type": "execute_result"
    }
   ],
   "source": [
    "X_test.iloc[51]"
   ]
  },
  {
   "cell_type": "code",
   "execution_count": 86,
   "id": "2e14f6fb",
   "metadata": {},
   "outputs": [],
   "source": [
    "data_dict={'Frequency':8,\n",
    "           'Angle of attack':4,\n",
    "           'Chord length ':9,\n",
    "           'Free-stream velocity':1,\n",
    "           'Suction side':6\n",
    "          }"
   ]
  },
  {
   "cell_type": "code",
   "execution_count": 87,
   "id": "d62f267a",
   "metadata": {},
   "outputs": [
    {
     "data": {
      "text/plain": [
       "dict_values([8, 4, 9, 1, 6])"
      ]
     },
     "execution_count": 87,
     "metadata": {},
     "output_type": "execute_result"
    }
   ],
   "source": [
    "data_dict.values()"
   ]
  },
  {
   "cell_type": "code",
   "execution_count": 88,
   "id": "c39607c9",
   "metadata": {},
   "outputs": [
    {
     "data": {
      "text/plain": [
       "dict_values"
      ]
     },
     "execution_count": 88,
     "metadata": {},
     "output_type": "execute_result"
    }
   ],
   "source": [
    "type(data_dict.values())"
   ]
  },
  {
   "cell_type": "code",
   "execution_count": 89,
   "id": "f3c24633",
   "metadata": {},
   "outputs": [
    {
     "data": {
      "text/plain": [
       "[8, 4, 9, 1, 6]"
      ]
     },
     "execution_count": 89,
     "metadata": {},
     "output_type": "execute_result"
    }
   ],
   "source": [
    "list(data_dict.values())"
   ]
  },
  {
   "cell_type": "code",
   "execution_count": 93,
   "id": "3bf92005",
   "metadata": {},
   "outputs": [],
   "source": [
    "# bcoz list values are 1D array its giving error to convert it into 2D\n",
    "pickle_model.predict(list(data_dict.values()))\n",
    "\n",
    "# ValueError: Expected 2D array, got 1D array instead:\n",
    "# array=[8. 4. 9. 1. 6.].\n",
    "# Reshape your data either using array.reshape(-1, 1) if your data has a single feature or array.reshape(1, -1) if it contains a single sample.\n"
   ]
  },
  {
   "cell_type": "code",
   "execution_count": 91,
   "id": "6f40f5e5",
   "metadata": {},
   "outputs": [
    {
     "data": {
      "text/plain": [
       "array([118.3186])"
      ]
     },
     "execution_count": 91,
     "metadata": {},
     "output_type": "execute_result"
    }
   ],
   "source": [
    "#converting into 2D\n",
    "pickle_model.predict([list(data_dict.values())])"
   ]
  },
  {
   "cell_type": "code",
   "execution_count": null,
   "id": "f070abca",
   "metadata": {},
   "outputs": [],
   "source": []
  }
 ],
 "metadata": {
  "kernelspec": {
   "display_name": "Python 3 (ipykernel)",
   "language": "python",
   "name": "python3"
  },
  "language_info": {
   "codemirror_mode": {
    "name": "ipython",
    "version": 3
   },
   "file_extension": ".py",
   "mimetype": "text/x-python",
   "name": "python",
   "nbconvert_exporter": "python",
   "pygments_lexer": "ipython3",
   "version": "3.7.3"
  }
 },
 "nbformat": 4,
 "nbformat_minor": 5
}
